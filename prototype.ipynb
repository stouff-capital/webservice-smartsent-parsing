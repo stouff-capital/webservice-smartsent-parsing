{
 "cells": [
  {
   "cell_type": "markdown",
   "metadata": {},
   "source": [
    "!pip install pandas"
   ]
  },
  {
   "cell_type": "code",
   "execution_count": 1,
   "metadata": {},
   "outputs": [],
   "source": [
    "import pandas as pd"
   ]
  },
  {
   "cell_type": "code",
   "execution_count": 3,
   "metadata": {},
   "outputs": [
    {
     "data": {
      "text/html": [
       "<div>\n",
       "<style scoped>\n",
       "    .dataframe tbody tr th:only-of-type {\n",
       "        vertical-align: middle;\n",
       "    }\n",
       "\n",
       "    .dataframe tbody tr th {\n",
       "        vertical-align: top;\n",
       "    }\n",
       "\n",
       "    .dataframe thead th {\n",
       "        text-align: right;\n",
       "    }\n",
       "</style>\n",
       "<table border=\"1\" class=\"dataframe\">\n",
       "  <thead>\n",
       "    <tr style=\"text-align: right;\">\n",
       "      <th></th>\n",
       "      <th></th>\n",
       "      <th></th>\n",
       "      <th></th>\n",
       "      <th></th>\n",
       "      <th></th>\n",
       "      <th></th>\n",
       "      <th>Downloaded from TIM Investor by Julien Stouff on Tue 8th May 2018 16:16</th>\n",
       "    </tr>\n",
       "  </thead>\n",
       "  <tbody>\n",
       "    <tr>\n",
       "      <th>Reuters Ticker</th>\n",
       "      <th>Bloomberg Ticker</th>\n",
       "      <th>Company Name</th>\n",
       "      <th>Indicator</th>\n",
       "      <th>1d Change</th>\n",
       "      <th>1w Change</th>\n",
       "      <th>Idea Volume</th>\n",
       "      <td>Performance Percentile</td>\n",
       "    </tr>\n",
       "    <tr>\n",
       "      <th>DRIG.DE</th>\n",
       "      <th>DRI GY</th>\n",
       "      <th>1&amp;1 Drillisch AG</th>\n",
       "      <th>8</th>\n",
       "      <th>0</th>\n",
       "      <th>0</th>\n",
       "      <th>3</th>\n",
       "      <td>3</td>\n",
       "    </tr>\n",
       "    <tr>\n",
       "      <th>FLWS.O</th>\n",
       "      <th>FLWS US</th>\n",
       "      <th>1-800-Flowers.Com Inc</th>\n",
       "      <th>2</th>\n",
       "      <th>0</th>\n",
       "      <th>0</th>\n",
       "      <th>1</th>\n",
       "      <td>8</td>\n",
       "    </tr>\n",
       "    <tr>\n",
       "      <th>VNET.OQ</th>\n",
       "      <th>VNET UQ</th>\n",
       "      <th>21Vianet Group Inc</th>\n",
       "      <th>7</th>\n",
       "      <th>0</th>\n",
       "      <th>0</th>\n",
       "      <th>1</th>\n",
       "      <td>16</td>\n",
       "    </tr>\n",
       "    <tr>\n",
       "      <th>TWOU.OQ</th>\n",
       "      <th>TWOU UQ</th>\n",
       "      <th>2U Inc</th>\n",
       "      <th>9</th>\n",
       "      <th>0</th>\n",
       "      <th>0</th>\n",
       "      <th>3</th>\n",
       "      <td>93</td>\n",
       "    </tr>\n",
       "  </tbody>\n",
       "</table>\n",
       "</div>"
      ],
      "text/plain": [
       "                                                                                                Downloaded from TIM Investor by Julien Stouff on Tue 8th May 2018 16:16\n",
       "Reuters Ticker Bloomberg Ticker Company Name          Indicator 1d Change 1w Change Idea Volume                             Performance Percentile                     \n",
       "DRIG.DE        DRI GY           1&1 Drillisch AG      8         0         0         3                                                            3                     \n",
       "FLWS.O         FLWS US          1-800-Flowers.Com Inc 2         0         0         1                                                            8                     \n",
       "VNET.OQ        VNET UQ          21Vianet Group Inc    7         0         0         1                                                           16                     \n",
       "TWOU.OQ        TWOU UQ          2U Inc                9         0         0         3                                                           93                     "
      ]
     },
     "execution_count": 3,
     "metadata": {},
     "output_type": "execute_result"
    }
   ],
   "source": [
    "df = pd.read_csv('investor-stocks.csv')\n",
    "df.head()"
   ]
  },
  {
   "cell_type": "code",
   "execution_count": null,
   "metadata": {},
   "outputs": [],
   "source": []
  }
 ],
 "metadata": {
  "kernelspec": {
   "display_name": "Python 3",
   "language": "python",
   "name": "python3"
  },
  "language_info": {
   "codemirror_mode": {
    "name": "ipython",
    "version": 3
   },
   "file_extension": ".py",
   "mimetype": "text/x-python",
   "name": "python",
   "nbconvert_exporter": "python",
   "pygments_lexer": "ipython3",
   "version": "3.5.5"
  }
 },
 "nbformat": 4,
 "nbformat_minor": 2
}
